{
 "cells": [
  {
   "cell_type": "code",
   "execution_count": null,
   "metadata": {
    "collapsed": true
   },
   "outputs": [],
   "source": [
    "# Here’s a self check that really covers everything so far. You may have heard of the infinite monkey theorem? \n",
    "# The theorem states that a monkey hitting keys at random on a typewriter keyboard for an infinite amount of time will almost surely type a given text, such as the complete works of William Shakespeare. \n",
    "# Well, suppose we replace a monkey with a Python function. \n",
    "# How long do you think it would take for a Python function to generate just one sentence of Shakespeare? \n",
    "# The sentence we’ll shoot for is: “methinks it is like a weasel”\n",
    "# You’re not going to want to run this one in the browser, so fire up your favorite Python IDE. \n",
    "# The way we’ll simulate this is to write a function that generates a string that is 27 characters long by choosing random letters from the 26 letters in the alphabet plus the space. \n",
    "# We’ll write another function that will score each generated string by comparing the randomly generated string to the goal.\n",
    "# A third function will repeatedly call generate and score, then if 100% of the letters are correct we are done. \n",
    "# If the letters are not correct then we will generate a whole new string.\n",
    "# To make it easier to follow your program’s progress this third function should print out the best string generated so far and its score every 1000 tries."
   ]
  },
  {
   "cell_type": "code",
   "execution_count": 1,
   "metadata": {
    "collapsed": true
   },
   "outputs": [],
   "source": [
    "import string\n",
    "import random\n",
    "random.seed(42)\n",
    "\n",
    "def generate(char_numbers):\n",
    "    n = char_numbers\n",
    "    a = list(string.ascii_lowercase)\n",
    "    l = []\n",
    "    for i in range(n):\n",
    "        random_letter = random.choice(a)\n",
    "        l.append(random_letter)\n",
    "    return \"\".join(l)\n",
    "        \n",
    "def score(string,target):\n",
    "    count = 0\n",
    "    l = len(string)\n",
    "    for i in range(l):\n",
    "        if target[i] == string[i] :\n",
    "            count = count + 1\n",
    "        else:\n",
    "            count = count + 0\n",
    "    return count/len(target)\n",
    "\n",
    "def makestr(target):\n",
    "    b = target.replace(\" \",\"\")\n",
    "    n = len(b)\n",
    "    string = generate(n)\n",
    "    v = score(string,target)\n",
    "    return string, v \n"
   ]
  },
  {
   "cell_type": "code",
   "execution_count": 2,
   "metadata": {},
   "outputs": [
    {
     "data": {
      "text/plain": [
       "('udax', 0.0)"
      ]
     },
     "execution_count": 2,
     "metadata": {},
     "output_type": "execute_result"
    }
   ],
   "source": [
    "makestr(\"Jace\")"
   ]
  },
  {
   "cell_type": "code",
   "execution_count": null,
   "metadata": {
    "collapsed": true
   },
   "outputs": [],
   "source": []
  }
 ],
 "metadata": {
  "kernelspec": {
   "display_name": "Python 3",
   "language": "python",
   "name": "python3"
  },
  "language_info": {
   "codemirror_mode": {
    "name": "ipython",
    "version": 3
   },
   "file_extension": ".py",
   "mimetype": "text/x-python",
   "name": "python",
   "nbconvert_exporter": "python",
   "pygments_lexer": "ipython3",
   "version": "3.6.3"
  }
 },
 "nbformat": 4,
 "nbformat_minor": 2
}
