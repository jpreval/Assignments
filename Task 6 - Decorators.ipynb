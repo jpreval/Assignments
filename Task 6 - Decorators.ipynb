{
 "cells": [
  {
   "cell_type": "code",
   "execution_count": 6,
   "metadata": {
    "collapsed": true
   },
   "outputs": [],
   "source": [
    "def log(original_function, logfilename=\"log.txt\"):\n",
    "    def new_function(*args, **kwargs):\n",
    "        result = original_function(*args, **kwargs)\n",
    "\n",
    "        with open(logfilename, \"w\") as logfile:\n",
    "            logfile.write(\"Function '%s' called with positional arguments %s and keyword arguments %s. The result was %s.\\n\" % (original_function.__name__, args, kwargs, result))\n",
    "\n",
    "        return result\n",
    "\n",
    "    return new_function"
   ]
  },
  {
   "cell_type": "code",
   "execution_count": 7,
   "metadata": {},
   "outputs": [
    {
     "name": "stdout",
     "output_type": "stream",
     "text": [
      "10.5\n",
      "Function 'add' called with positional arguments (3.5, 7) and keyword arguments {}. The result was 10.5.\n",
      "\n"
     ]
    }
   ],
   "source": [
    "@log\n",
    "def add(x, y):\n",
    "    return x + y\n",
    "\n",
    "print(add(3.5, 7))\n",
    "\n",
    "with open(\"log.txt\", \"r\") as logfile:\n",
    "    print(logfile.read())"
   ]
  },
  {
   "cell_type": "code",
   "execution_count": null,
   "metadata": {
    "collapsed": true
   },
   "outputs": [],
   "source": []
  }
 ],
 "metadata": {
  "kernelspec": {
   "display_name": "Python 3",
   "language": "python",
   "name": "python3"
  },
  "language_info": {
   "codemirror_mode": {
    "name": "ipython",
    "version": 3
   },
   "file_extension": ".py",
   "mimetype": "text/x-python",
   "name": "python",
   "nbconvert_exporter": "python",
   "pygments_lexer": "ipython3",
   "version": "3.6.3"
  }
 },
 "nbformat": 4,
 "nbformat_minor": 2
}
