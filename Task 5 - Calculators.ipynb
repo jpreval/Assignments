{
 "cells": [
  {
   "cell_type": "code",
   "execution_count": 15,
   "metadata": {},
   "outputs": [],
   "source": [
    "def calculator(a,b,c):\n",
    "    operationlist = ['add','sub','mult','div']\n",
    "    if c not in operationlist:\n",
    "        print(\"Please enter a operation for this list\",operationlist)\n",
    "    else:\n",
    "        try:\n",
    "            aa = int(a)\n",
    "            bb = int(b)\n",
    "        except ValueError:\n",
    "            print ('That is not a number')\n",
    "        if c == 'add':\n",
    "            return a+b\n",
    "        elif c == 'sub':\n",
    "            return a-b\n",
    "        elif c == 'mult':\n",
    "            return a+b\n",
    "        elif c == 'div':\n",
    "            return a%b"
   ]
  },
  {
   "cell_type": "code",
   "execution_count": 19,
   "metadata": {
    "scrolled": true
   },
   "outputs": [
    {
     "data": {
      "text/plain": [
       "201.0"
      ]
     },
     "execution_count": 19,
     "metadata": {},
     "output_type": "execute_result"
    }
   ],
   "source": [
    "calculator(200.0,1,'add')"
   ]
  }
 ],
 "metadata": {
  "kernelspec": {
   "display_name": "Python 3",
   "language": "python",
   "name": "python3"
  },
  "language_info": {
   "codemirror_mode": {
    "name": "ipython",
    "version": 3
   },
   "file_extension": ".py",
   "mimetype": "text/x-python",
   "name": "python",
   "nbconvert_exporter": "python",
   "pygments_lexer": "ipython3",
   "version": "3.6.3"
  }
 },
 "nbformat": 4,
 "nbformat_minor": 2
}
